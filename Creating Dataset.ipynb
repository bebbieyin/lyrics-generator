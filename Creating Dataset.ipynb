{
 "cells": [
  {
   "cell_type": "code",
   "execution_count": 3,
   "metadata": {},
   "outputs": [],
   "source": [
    "from bs4 import BeautifulSoup\n",
    "import spotipy\n",
    "import spotipy.util as util\n",
    "from spotipy.oauth2 import SpotifyClientCredentials\n",
    "import pandas as pd\n",
    "import requests\n",
    "from tqdm import tqdm\n",
    "from sklearn.feature_extraction.text import TfidfVectorizer\n",
    "import nltk\n",
    "from nltk.corpus import stopwords\n",
    "from nltk.stem import WordNetLemmatizer\n",
    "from nltk.tokenize import RegexpTokenizer\n",
    "from nltk.tokenize import word_tokenize\n",
    "import re \n",
    "from sklearn.metrics import classification_report, confusion_matrix\n",
    "import keras\n",
    "from sklearn import svm\n",
    "from keras.models import Sequential\n",
    "from keras import layers\n",
    "from sklearn import preprocessing\n",
    "from keras.layers import Embedding, LSTM, SpatialDropout1D, Dense, Dropout, Activation, Flatten\n",
    "import matplotlib.pyplot as plt\n",
    "import numpy as np"
   ]
  },
  {
   "cell_type": "markdown",
   "metadata": {},
   "source": [
    "## Creating the dataset\n",
    "Using Spotify API and Genius API"
   ]
  },
  {
   "cell_type": "code",
   "execution_count": 237,
   "metadata": {},
   "outputs": [],
   "source": [
    "# setting up spotify client\n",
    "SPOTIFY_CLIENT_ID = '8bb89c78e01147559a8e3abdcdf84f4e'\n",
    "SPOTIFY_CLIENT_SECRET = 'fdae390db3e14974bfd77b31b55d67c7'\n",
    "client_credentials_manager = SpotifyClientCredentials(client_id=SPOTIFY_CLIENT_ID,client_secret=SPOTIFY_CLIENT_SECRET)\n",
    "sp = spotipy.Spotify(client_credentials_manager=client_credentials_manager)"
   ]
  },
  {
   "cell_type": "code",
   "execution_count": 238,
   "metadata": {},
   "outputs": [],
   "source": [
    "# setting up Genius client\n",
    "GENIUS_CLIENT_ID = '76geonHrs8X6h9y2m1xi_epQz6ZMj9BrIskaRH1HzLafans_-km4SDCPxihboNLS'\n",
    "GENIUS_CLIENT_SECRET = 'PFCUDsUUfT5CVeij4d2fuzsM9e7kcWYA36TMca1kFjY6HHlum6A4ABoudF1hThFGQLGD5OiCk52EXcQb7SWRdw'\n",
    "GENIUS_ACCESS_TOKEN = 'yMyCGPpKc3IJO7tGub2qvKLKiesrWvzdeSN9qOYDipc8ZJVs0lh2xZPP1e9_v4x0'"
   ]
  },
  {
   "cell_type": "code",
   "execution_count": 239,
   "metadata": {},
   "outputs": [
    {
     "data": {
      "text/plain": [
       "{'genres': ['acoustic',\n",
       "  'afrobeat',\n",
       "  'alt-rock',\n",
       "  'alternative',\n",
       "  'ambient',\n",
       "  'anime',\n",
       "  'black-metal',\n",
       "  'bluegrass',\n",
       "  'blues',\n",
       "  'bossanova',\n",
       "  'brazil',\n",
       "  'breakbeat',\n",
       "  'british',\n",
       "  'cantopop',\n",
       "  'chicago-house',\n",
       "  'children',\n",
       "  'chill',\n",
       "  'classical',\n",
       "  'club',\n",
       "  'comedy',\n",
       "  'country',\n",
       "  'dance',\n",
       "  'dancehall',\n",
       "  'death-metal',\n",
       "  'deep-house',\n",
       "  'detroit-techno',\n",
       "  'disco',\n",
       "  'disney',\n",
       "  'drum-and-bass',\n",
       "  'dub',\n",
       "  'dubstep',\n",
       "  'edm',\n",
       "  'electro',\n",
       "  'electronic',\n",
       "  'emo',\n",
       "  'folk',\n",
       "  'forro',\n",
       "  'french',\n",
       "  'funk',\n",
       "  'garage',\n",
       "  'german',\n",
       "  'gospel',\n",
       "  'goth',\n",
       "  'grindcore',\n",
       "  'groove',\n",
       "  'grunge',\n",
       "  'guitar',\n",
       "  'happy',\n",
       "  'hard-rock',\n",
       "  'hardcore',\n",
       "  'hardstyle',\n",
       "  'heavy-metal',\n",
       "  'hip-hop',\n",
       "  'holidays',\n",
       "  'honky-tonk',\n",
       "  'house',\n",
       "  'idm',\n",
       "  'indian',\n",
       "  'indie',\n",
       "  'indie-pop',\n",
       "  'industrial',\n",
       "  'iranian',\n",
       "  'j-dance',\n",
       "  'j-idol',\n",
       "  'j-pop',\n",
       "  'j-rock',\n",
       "  'jazz',\n",
       "  'k-pop',\n",
       "  'kids',\n",
       "  'latin',\n",
       "  'latino',\n",
       "  'malay',\n",
       "  'mandopop',\n",
       "  'metal',\n",
       "  'metal-misc',\n",
       "  'metalcore',\n",
       "  'minimal-techno',\n",
       "  'movies',\n",
       "  'mpb',\n",
       "  'new-age',\n",
       "  'new-release',\n",
       "  'opera',\n",
       "  'pagode',\n",
       "  'party',\n",
       "  'philippines-opm',\n",
       "  'piano',\n",
       "  'pop',\n",
       "  'pop-film',\n",
       "  'post-dubstep',\n",
       "  'power-pop',\n",
       "  'progressive-house',\n",
       "  'psych-rock',\n",
       "  'punk',\n",
       "  'punk-rock',\n",
       "  'r-n-b',\n",
       "  'rainy-day',\n",
       "  'reggae',\n",
       "  'reggaeton',\n",
       "  'road-trip',\n",
       "  'rock',\n",
       "  'rock-n-roll',\n",
       "  'rockabilly',\n",
       "  'romance',\n",
       "  'sad',\n",
       "  'salsa',\n",
       "  'samba',\n",
       "  'sertanejo',\n",
       "  'show-tunes',\n",
       "  'singer-songwriter',\n",
       "  'ska',\n",
       "  'sleep',\n",
       "  'songwriter',\n",
       "  'soul',\n",
       "  'soundtracks',\n",
       "  'spanish',\n",
       "  'study',\n",
       "  'summer',\n",
       "  'swedish',\n",
       "  'synth-pop',\n",
       "  'tango',\n",
       "  'techno',\n",
       "  'trance',\n",
       "  'trip-hop',\n",
       "  'turkish',\n",
       "  'work-out',\n",
       "  'world-music']}"
      ]
     },
     "execution_count": 239,
     "metadata": {},
     "output_type": "execute_result"
    }
   ],
   "source": [
    "# get the available genres  \n",
    "sp.recommendation_genre_seeds()"
   ]
  },
  {
   "cell_type": "code",
   "execution_count": 255,
   "metadata": {},
   "outputs": [
    {
     "name": "stderr",
     "output_type": "stream",
     "text": [
      "100%|██████████████████████████████████████████████████████████████████████████████████| 30/30 [00:49<00:00,  1.65s/it]\n"
     ]
    }
   ],
   "source": [
    "# get songs from five major genre from spotify\n",
    "\n",
    "list_pop = ['pop']\n",
    "list_country = ['country']\n",
    "list_rock = ['rock','rock-n-roll','rockabilly']\n",
    "list_hiphop = ['hip-hop']\n",
    "list_blues = ['blues']\n",
    "\n",
    "pop = []\n",
    "country = []\n",
    "rock = []\n",
    "hiphop = []\n",
    "blues =[] \n",
    "\n",
    "\n",
    "for i in tqdm(range(0,30)):\n",
    "    \n",
    "    pop.append(sp.recommendations(seed_genres=list_pop,limit=100)['tracks'])\n",
    "    country.append(sp.recommendations(seed_genres=list_country,limit=100)['tracks'])\n",
    "    rock.append(sp.recommendations(seed_genres=list_rock,limit=100)['tracks'])\n",
    "    hiphop.append(sp.recommendations(seed_genres=list_hiphop,limit=100)['tracks'])\n",
    "    blues.append(sp.recommendations(seed_genres=list_blues,limit=100)['tracks'])\n",
    "\n",
    "# convert the nested lists into flat lists \n",
    "flat_pop = [item for elem in pop for item in elem]\n",
    "flat_country = [item for elem in country for item in elem]\n",
    "flat_rock = [item for elem in rock for item in elem]\n",
    "flat_hiphop = [item for elem in hiphop for item in elem]\n",
    "flat_blues = [item for elem in blues for item in elem]\n",
    "\n",
    "# append aal the songs together\n",
    "data = flat_pop+flat_country+flat_rock+flat_hiphop+flat_blues"
   ]
  },
  {
   "cell_type": "code",
   "execution_count": 256,
   "metadata": {},
   "outputs": [
    {
     "name": "stderr",
     "output_type": "stream",
     "text": [
      "100%|████████████████████████████████████████████████████████████████████████| 15000/15000 [00:00<00:00, 474443.73it/s]\n"
     ]
    }
   ],
   "source": [
    "# get the song name and artist name\n",
    "\n",
    "track_name = []\n",
    "artist_name = []\n",
    "for i in tqdm(range(len(data))):\n",
    "    track_name.append(data[i]['name'])\n",
    "    artist_name.append(data[i]['artists'][0]['name'])"
   ]
  },
  {
   "cell_type": "code",
   "execution_count": 257,
   "metadata": {},
   "outputs": [],
   "source": [
    "# create a genre list to be converted into a column in the dataframe\n",
    "list_genre = []\n",
    "\n",
    "for a in range(len((flat_pop))):\n",
    "    list_genre.append('pop')\n",
    "    \n",
    "for a in range(len((flat_country))):\n",
    "    list_genre.append('country')\n",
    "    \n",
    "for a in range(len((flat_rock))):\n",
    "    list_genre.append('rock')\n",
    "\n",
    "for a in range(len((flat_hiphop))):\n",
    "    list_genre.append('hiphop')\n",
    "\n",
    "for a in range(len((flat_blues))):\n",
    "    list_genre.append('blues')"
   ]
  },
  {
   "cell_type": "code",
   "execution_count": 258,
   "metadata": {},
   "outputs": [],
   "source": [
    "df_lyrics =  list(zip(track_name,artist_name,list_genre))\n",
    "df_lyrics = pd.DataFrame(df_lyrics, columns=['track_name','artist_name','genre'])\n",
    "df_lyrics.drop_duplicates(inplace=True)\n",
    "df_lyrics.reset_index(drop=True,inplace=True)"
   ]
  },
  {
   "cell_type": "code",
   "execution_count": 259,
   "metadata": {},
   "outputs": [
    {
     "data": {
      "text/html": [
       "<div>\n",
       "<style scoped>\n",
       "    .dataframe tbody tr th:only-of-type {\n",
       "        vertical-align: middle;\n",
       "    }\n",
       "\n",
       "    .dataframe tbody tr th {\n",
       "        vertical-align: top;\n",
       "    }\n",
       "\n",
       "    .dataframe thead th {\n",
       "        text-align: right;\n",
       "    }\n",
       "</style>\n",
       "<table border=\"1\" class=\"dataframe\">\n",
       "  <thead>\n",
       "    <tr style=\"text-align: right;\">\n",
       "      <th></th>\n",
       "      <th>track_name</th>\n",
       "      <th>artist_name</th>\n",
       "      <th>genre</th>\n",
       "    </tr>\n",
       "  </thead>\n",
       "  <tbody>\n",
       "    <tr>\n",
       "      <th>0</th>\n",
       "      <td>Instruction (feat. Demi Lovato &amp; Stefflon Don)</td>\n",
       "      <td>Jax Jones</td>\n",
       "      <td>pop</td>\n",
       "    </tr>\n",
       "    <tr>\n",
       "      <th>1</th>\n",
       "      <td>Magnolia</td>\n",
       "      <td>Playboi Carti</td>\n",
       "      <td>pop</td>\n",
       "    </tr>\n",
       "    <tr>\n",
       "      <th>2</th>\n",
       "      <td>Best Part (feat. Daniel Caesar)</td>\n",
       "      <td>H.E.R.</td>\n",
       "      <td>pop</td>\n",
       "    </tr>\n",
       "    <tr>\n",
       "      <th>3</th>\n",
       "      <td>A Lie</td>\n",
       "      <td>French Montana</td>\n",
       "      <td>pop</td>\n",
       "    </tr>\n",
       "    <tr>\n",
       "      <th>4</th>\n",
       "      <td>Man's Not Hot</td>\n",
       "      <td>Big Shaq</td>\n",
       "      <td>pop</td>\n",
       "    </tr>\n",
       "    <tr>\n",
       "      <th>...</th>\n",
       "      <td>...</td>\n",
       "      <td>...</td>\n",
       "      <td>...</td>\n",
       "    </tr>\n",
       "    <tr>\n",
       "      <th>3284</th>\n",
       "      <td>She's Dynamite</td>\n",
       "      <td>B.B. King</td>\n",
       "      <td>blues</td>\n",
       "    </tr>\n",
       "    <tr>\n",
       "      <th>3285</th>\n",
       "      <td>Where Did You Sleep Last Night?</td>\n",
       "      <td>Lead Belly</td>\n",
       "      <td>blues</td>\n",
       "    </tr>\n",
       "    <tr>\n",
       "      <th>3286</th>\n",
       "      <td>I'm a Steady Rollin' Man</td>\n",
       "      <td>Robert Johnson</td>\n",
       "      <td>blues</td>\n",
       "    </tr>\n",
       "    <tr>\n",
       "      <th>3287</th>\n",
       "      <td>Sugar Mama</td>\n",
       "      <td>Sonny Boy Williamson II</td>\n",
       "      <td>blues</td>\n",
       "    </tr>\n",
       "    <tr>\n",
       "      <th>3288</th>\n",
       "      <td>I Love Lucy</td>\n",
       "      <td>Albert King</td>\n",
       "      <td>blues</td>\n",
       "    </tr>\n",
       "  </tbody>\n",
       "</table>\n",
       "<p>3289 rows × 3 columns</p>\n",
       "</div>"
      ],
      "text/plain": [
       "                                          track_name              artist_name  \\\n",
       "0     Instruction (feat. Demi Lovato & Stefflon Don)                Jax Jones   \n",
       "1                                           Magnolia            Playboi Carti   \n",
       "2                    Best Part (feat. Daniel Caesar)                   H.E.R.   \n",
       "3                                              A Lie           French Montana   \n",
       "4                                      Man's Not Hot                 Big Shaq   \n",
       "...                                              ...                      ...   \n",
       "3284                                  She's Dynamite                B.B. King   \n",
       "3285                 Where Did You Sleep Last Night?               Lead Belly   \n",
       "3286                        I'm a Steady Rollin' Man           Robert Johnson   \n",
       "3287                                      Sugar Mama  Sonny Boy Williamson II   \n",
       "3288                                     I Love Lucy              Albert King   \n",
       "\n",
       "      genre  \n",
       "0       pop  \n",
       "1       pop  \n",
       "2       pop  \n",
       "3       pop  \n",
       "4       pop  \n",
       "...     ...  \n",
       "3284  blues  \n",
       "3285  blues  \n",
       "3286  blues  \n",
       "3287  blues  \n",
       "3288  blues  \n",
       "\n",
       "[3289 rows x 3 columns]"
      ]
     },
     "execution_count": 259,
     "metadata": {},
     "output_type": "execute_result"
    }
   ],
   "source": [
    "df_lyrics"
   ]
  },
  {
   "cell_type": "code",
   "execution_count": 260,
   "metadata": {},
   "outputs": [],
   "source": [
    "# search for lyrics for each song from Genius API  \n",
    "# set up the authorization token for Genius API \n",
    "base_url = 'https://api.genius.com'\n",
    "headers = {'Authorization': 'Bearer ' + GENIUS_ACCESS_TOKEN}\n",
    "search_url = base_url + '/search'"
   ]
  },
  {
   "cell_type": "code",
   "execution_count": 261,
   "metadata": {},
   "outputs": [],
   "source": [
    "# get the lyrics of songs of Genius API using web scraping\n",
    "\n",
    "def get_lyrics(song_url):\n",
    "        \n",
    "    # get the lyrics with web scraping if the song name and artist match\n",
    "\n",
    "    #if artist_name.lower() in song_result['response']['hits'][0]['result']['primary_artist']['name'].lower() or track_name.lower() in song_result['response']['hits'][0]['result']['title'].lower() :\n",
    "\n",
    "    page = requests.get(song_url)\n",
    "    html = BeautifulSoup(page.content, 'html.parser')\n",
    "    lyrics1 = html.find('div', 'lyrics')\n",
    "\n",
    "\n",
    "    if lyrics1:\n",
    "        lyrics = lyrics1.get_text()\n",
    "    else:\n",
    "        # if there is no div with class 'lyrics' then find div with another class\n",
    "        lyrics2 = html.find(\"div\", \"Lyrics__Container-sc-1ynbvzw-2 jgQsqn\")\n",
    "        if lyrics2==None:\n",
    "            lyrics = None\n",
    "        else:\n",
    "            lyrics = lyrics2.get_text()\n",
    "    \n",
    "    if lyrics:\n",
    "        #lyrics = lyrics.replace(\"\\n\",\" \")\n",
    "        lyrics = lyrics.lower()\n",
    "\n",
    "    \n",
    "    return(lyrics)"
   ]
  },
  {
   "cell_type": "code",
   "execution_count": 262,
   "metadata": {},
   "outputs": [
    {
     "name": "stderr",
     "output_type": "stream",
     "text": [
      "3289it [54:21,  1.01it/s]\n"
     ]
    }
   ],
   "source": [
    "results=[]\n",
    "\n",
    "for i,j in tqdm(df_lyrics.iterrows()):\n",
    "    data = {'q': j['track_name'] + ' ' + j['artist_name']}\n",
    "    response = requests.get(search_url, data=data, headers=headers).json()\n",
    "    if response['response']['hits']:\n",
    "        results.append(response['response']['hits']) # add only the first result to filter remix, live or other versions\n",
    "    else:\n",
    "        results.append(None)"
   ]
  },
  {
   "cell_type": "code",
   "execution_count": 269,
   "metadata": {},
   "outputs": [
    {
     "name": "stderr",
     "output_type": "stream",
     "text": [
      "100%|███████████████████████████████████████████████████████████████████████████| 3289/3289 [00:00<00:00, 68632.17it/s]\n"
     ]
    }
   ],
   "source": [
    "list_url = []\n",
    "list_lyrics = []\n",
    "\n",
    "# get the url for each song\n",
    "for i in tqdm(range(len(results))):\n",
    "    if results[i] != None:\n",
    "        if df_lyrics['artist_name'][i].lower() in results[i][0]['result']['primary_artist']['name'].lower() or df_lyrics['track_name'][i].lower() in results[i][0]['result']['title'].lower() :\n",
    "            track_url = results[i][0]['result']['url'] \n",
    "            list_url.append(track_url)\n",
    "        else:\n",
    "            list_url.append(None)\n",
    "    else:\n",
    "        list_url.append(None)\n"
   ]
  },
  {
   "cell_type": "code",
   "execution_count": 270,
   "metadata": {},
   "outputs": [
    {
     "name": "stderr",
     "output_type": "stream",
     "text": [
      "100%|████████████████████████████████████████████████████████████████████████████| 3289/3289 [1:49:17<00:00,  1.99s/it]\n"
     ]
    }
   ],
   "source": [
    "# get the lyrics from the url\n",
    "for i in tqdm(list_url):\n",
    "    if i != None:\n",
    "        list_lyrics.append(get_lyrics(i))\n",
    "    else:\n",
    "        list_lyrics.append(None)"
   ]
  },
  {
   "cell_type": "code",
   "execution_count": 271,
   "metadata": {},
   "outputs": [
    {
     "data": {
      "text/plain": [
       "genre\n",
       "blues      530\n",
       "country    630\n",
       "hiphop     506\n",
       "pop        505\n",
       "rock       544\n",
       "dtype: int64"
      ]
     },
     "execution_count": 271,
     "metadata": {},
     "output_type": "execute_result"
    }
   ],
   "source": [
    "df_lyrics['lyrics'] = list_lyrics\n",
    "df_lyrics.dropna(inplace=True)\n",
    "df_lyrics.reset_index(drop=True,inplace=True)\n",
    "df_lyrics.groupby('genre').size()"
   ]
  },
  {
   "cell_type": "code",
   "execution_count": null,
   "metadata": {},
   "outputs": [],
   "source": [
    "# save to csv file\n",
    "df_lyrics.to_csv(\"lyrics_uncleaned.csv\", sep = ',', encoding=\"utf-8-sig\",index=False) "
   ]
  },
  {
   "cell_type": "markdown",
   "metadata": {},
   "source": [
    "## Cleaning the lyrics"
   ]
  },
  {
   "cell_type": "code",
   "execution_count": 5,
   "metadata": {},
   "outputs": [],
   "source": [
    "#pd.set_option('display.max_rows', None)\n",
    "df_lyrics = pd.read_csv('lyrics_uncleaned.csv')"
   ]
  },
  {
   "cell_type": "code",
   "execution_count": 6,
   "metadata": {},
   "outputs": [
    {
     "name": "stdout",
     "output_type": "stream",
     "text": [
      "Example of a song lyrics:\n"
     ]
    },
    {
     "data": {
      "text/plain": [
       "\"\\n\\n[verse 1]\\nyou can run free, i won't hold it against ya\\nyou do your thing, never wanted a future\\nfuck if i knew how to put it romantic\\nspeaking my truth, there's no need to panic\\n\\n[pre-chorus]\\nno, let's not put a label on it\\nlet's keep it fun\\nwe don't put a label on it\\nso we can run free, yeah\\ni wanna be free like you\\n\\n[chorus]\\ni'm a, i'm a\\ni'm a cool girl, i'm a, i'm a cool girl\\nice cold, i roll my eyes at you, boy\\ni'm a cool girl, i'm a, i'm a cool girl\\nice cold, i roll my eyes at you, boy\\n\\n[verse 2]\\nrules you don't like, but you still wanna keep 'em\\nsaid you were fine so for whatever reason\\nsure we can chill, try and keep it platonic\\nnow you can't tell if i'm really ironic\\n\\n[pre-chorus]\\nno, let's not put a label on it\\nlet's keep it fun\\nwe don't put a label on it\\nso we can run free, yeah\\ni wanna be free like you\\n\\n[chorus]\\ni'm a, i'm a\\ni'm a cool girl, i'm a, i'm a cool girl\\nice cold, i roll my eyes at you, boy\\ni'm a cool girl, i'm a, i'm a cool girl\\nice cold, i roll my eyes at you, boy\\ni'm a cool girl, i'm a, i'm a cool girl\\nice cold, i roll my eyes at you, boy\\ni'm a cool girl, i'm a, i'm a cool girl\\nice cold, i roll my eyes at you, boy\\n\\n[bridge]\\ni got fever highs\\ni got boiling blood\\ni'm that fire kind\\nwe could burn together\\n\\n[chorus]\\ni'm a\\ni'm a cool girl, i'm a, i'm a cool girl\\nice cold, i roll my eyes at you, boy\\ni'm a cool girl, i'm a, i'm a cool girl\\nice cold, i roll my eyes at you, boy\\n\\n[outro]\\ni'm a cool girl, i'm a, i'm a cool girl\\ntoo cool for you\\ni'm a cool girl, i'm a, i'm a, i'm a, i'm a\\ni'm a, i'm a cool girl, i'm a, i'm a cool girl\\nice cold, i roll my eyes at you, boy\\n\\n\""
      ]
     },
     "execution_count": 6,
     "metadata": {},
     "output_type": "execute_result"
    }
   ],
   "source": [
    "print(\"Example of a song lyrics:\")\n",
    "df_lyrics.iloc[100]['lyrics']"
   ]
  },
  {
   "cell_type": "markdown",
   "metadata": {},
   "source": [
    "#### To clean the lyrics, we want to \n",
    "1. Remove the words inside brackets [] as they are not important\n",
    "2. Remove punctuction \n",
    "3. Remove non-alphabetical characters\n",
    "3. Remove '\\n'\n",
    "4. Remove extra whitespace left after processing"
   ]
  },
  {
   "cell_type": "code",
   "execution_count": 7,
   "metadata": {},
   "outputs": [],
   "source": [
    "cleaned_lyrics = []\n",
    "for i,j in df_lyrics.iterrows():\n",
    "    lyr = df_lyrics.iloc[i]['lyrics']\n",
    "    cleaned = re.sub(\"[\\(\\[].*?[\\)\\]]\", \" \", lyr) # remove words inside brackets\n",
    "    cleaned_1 = re.sub(r\"\\n\",\" \",cleaned) # remove newline \n",
    "    cleaned_2 = re.sub('[^a-zA-Z]',\" \", cleaned_1) # remove punctuaction and numbers\n",
    "    cleaned_3 = re.sub(r' +', ' ', cleaned_2) # remove extra whitespace\n",
    "    cleaned_lyrics.append(cleaned_3)\n",
    "\n",
    "df_lyrics['cleaned_lyrics'] = cleaned_lyrics\n",
    "df_lyrics.to_csv(\"lyrics_cleaned.csv\", sep = ',', encoding=\"utf-8-sig\",index=False) "
   ]
  },
  {
   "cell_type": "code",
   "execution_count": 8,
   "metadata": {},
   "outputs": [
    {
     "data": {
      "text/html": [
       "<div>\n",
       "<style scoped>\n",
       "    .dataframe tbody tr th:only-of-type {\n",
       "        vertical-align: middle;\n",
       "    }\n",
       "\n",
       "    .dataframe tbody tr th {\n",
       "        vertical-align: top;\n",
       "    }\n",
       "\n",
       "    .dataframe thead th {\n",
       "        text-align: right;\n",
       "    }\n",
       "</style>\n",
       "<table border=\"1\" class=\"dataframe\">\n",
       "  <thead>\n",
       "    <tr style=\"text-align: right;\">\n",
       "      <th></th>\n",
       "      <th>track_name</th>\n",
       "      <th>artist_name</th>\n",
       "      <th>genre</th>\n",
       "      <th>lyrics</th>\n",
       "      <th>cleaned_lyrics</th>\n",
       "    </tr>\n",
       "  </thead>\n",
       "  <tbody>\n",
       "    <tr>\n",
       "      <th>0</th>\n",
       "      <td>Magnolia</td>\n",
       "      <td>Playboi Carti</td>\n",
       "      <td>pop</td>\n",
       "      <td>\\n\\n[intro: playboi carti &amp; jamie foxx]\\nyo, p...</td>\n",
       "      <td>yo pi erre you wanna come out here uh in new ...</td>\n",
       "    </tr>\n",
       "    <tr>\n",
       "      <th>1</th>\n",
       "      <td>A Lie</td>\n",
       "      <td>French Montana</td>\n",
       "      <td>pop</td>\n",
       "      <td>\\n\\n[intro: max b &amp; french montana]\\nuh, boss ...</td>\n",
       "      <td>uh boss don shit thought i d have a little fu...</td>\n",
       "    </tr>\n",
       "    <tr>\n",
       "      <th>2</th>\n",
       "      <td>Man's Not Hot</td>\n",
       "      <td>Big Shaq</td>\n",
       "      <td>pop</td>\n",
       "      <td>\\n\\n[intro]\\nyo\\nbig shaq, the one and only\\nm...</td>\n",
       "      <td>yo big shaq the one and only man s not hot ne...</td>\n",
       "    </tr>\n",
       "    <tr>\n",
       "      <th>3</th>\n",
       "      <td>No Role Modelz</td>\n",
       "      <td>J. Cole</td>\n",
       "      <td>pop</td>\n",
       "      <td>\\n\\n[verse 1]\\nfirst things first: rest in pea...</td>\n",
       "      <td>first things first rest in peace uncle phil f...</td>\n",
       "    </tr>\n",
       "    <tr>\n",
       "      <th>4</th>\n",
       "      <td>Real Friends</td>\n",
       "      <td>Camila Cabello</td>\n",
       "      <td>pop</td>\n",
       "      <td>\\n\\n[verse 1]\\nno, i think i'll stay in tonigh...</td>\n",
       "      <td>no i think i ll stay in tonight skip the conv...</td>\n",
       "    </tr>\n",
       "    <tr>\n",
       "      <th>...</th>\n",
       "      <td>...</td>\n",
       "      <td>...</td>\n",
       "      <td>...</td>\n",
       "      <td>...</td>\n",
       "      <td>...</td>\n",
       "    </tr>\n",
       "    <tr>\n",
       "      <th>2710</th>\n",
       "      <td>She's Dynamite</td>\n",
       "      <td>B.B. King</td>\n",
       "      <td>blues</td>\n",
       "      <td>\\n\\nmet a lot women who could love alright\\nbu...</td>\n",
       "      <td>met a lot women who could love alright but no...</td>\n",
       "    </tr>\n",
       "    <tr>\n",
       "      <th>2711</th>\n",
       "      <td>Where Did You Sleep Last Night?</td>\n",
       "      <td>Lead Belly</td>\n",
       "      <td>blues</td>\n",
       "      <td>[verse 1]my girl, my girl, don't lie to metell...</td>\n",
       "      <td>my girl my girl don t lie to metell me where ...</td>\n",
       "    </tr>\n",
       "    <tr>\n",
       "      <th>2712</th>\n",
       "      <td>I'm a Steady Rollin' Man</td>\n",
       "      <td>Robert Johnson</td>\n",
       "      <td>blues</td>\n",
       "      <td>\\n\\ni'm a steady rollin man\\ni roll both night...</td>\n",
       "      <td>i m a steady rollin man i roll both night and...</td>\n",
       "    </tr>\n",
       "    <tr>\n",
       "      <th>2713</th>\n",
       "      <td>Sugar Mama</td>\n",
       "      <td>Sonny Boy Williamson II</td>\n",
       "      <td>blues</td>\n",
       "      <td>sugar mama, sugar mamasugar mama please come b...</td>\n",
       "      <td>sugar mama sugar mamasugar mama please come ba...</td>\n",
       "    </tr>\n",
       "    <tr>\n",
       "      <th>2714</th>\n",
       "      <td>I Love Lucy</td>\n",
       "      <td>Albert King</td>\n",
       "      <td>blues</td>\n",
       "      <td>\\n\\nwhoo!\\n\\ni want all of you soul brothers a...</td>\n",
       "      <td>whoo i want all of you soul brothers and sist...</td>\n",
       "    </tr>\n",
       "  </tbody>\n",
       "</table>\n",
       "<p>2715 rows × 5 columns</p>\n",
       "</div>"
      ],
      "text/plain": [
       "                           track_name              artist_name  genre  \\\n",
       "0                            Magnolia            Playboi Carti    pop   \n",
       "1                               A Lie           French Montana    pop   \n",
       "2                       Man's Not Hot                 Big Shaq    pop   \n",
       "3                      No Role Modelz                  J. Cole    pop   \n",
       "4                        Real Friends           Camila Cabello    pop   \n",
       "...                               ...                      ...    ...   \n",
       "2710                   She's Dynamite                B.B. King  blues   \n",
       "2711  Where Did You Sleep Last Night?               Lead Belly  blues   \n",
       "2712         I'm a Steady Rollin' Man           Robert Johnson  blues   \n",
       "2713                       Sugar Mama  Sonny Boy Williamson II  blues   \n",
       "2714                      I Love Lucy              Albert King  blues   \n",
       "\n",
       "                                                 lyrics  \\\n",
       "0     \\n\\n[intro: playboi carti & jamie foxx]\\nyo, p...   \n",
       "1     \\n\\n[intro: max b & french montana]\\nuh, boss ...   \n",
       "2     \\n\\n[intro]\\nyo\\nbig shaq, the one and only\\nm...   \n",
       "3     \\n\\n[verse 1]\\nfirst things first: rest in pea...   \n",
       "4     \\n\\n[verse 1]\\nno, i think i'll stay in tonigh...   \n",
       "...                                                 ...   \n",
       "2710  \\n\\nmet a lot women who could love alright\\nbu...   \n",
       "2711  [verse 1]my girl, my girl, don't lie to metell...   \n",
       "2712  \\n\\ni'm a steady rollin man\\ni roll both night...   \n",
       "2713  sugar mama, sugar mamasugar mama please come b...   \n",
       "2714  \\n\\nwhoo!\\n\\ni want all of you soul brothers a...   \n",
       "\n",
       "                                         cleaned_lyrics  \n",
       "0      yo pi erre you wanna come out here uh in new ...  \n",
       "1      uh boss don shit thought i d have a little fu...  \n",
       "2      yo big shaq the one and only man s not hot ne...  \n",
       "3      first things first rest in peace uncle phil f...  \n",
       "4      no i think i ll stay in tonight skip the conv...  \n",
       "...                                                 ...  \n",
       "2710   met a lot women who could love alright but no...  \n",
       "2711   my girl my girl don t lie to metell me where ...  \n",
       "2712   i m a steady rollin man i roll both night and...  \n",
       "2713  sugar mama sugar mamasugar mama please come ba...  \n",
       "2714   whoo i want all of you soul brothers and sist...  \n",
       "\n",
       "[2715 rows x 5 columns]"
      ]
     },
     "execution_count": 8,
     "metadata": {},
     "output_type": "execute_result"
    }
   ],
   "source": [
    "df_lyrics"
   ]
  },
  {
   "cell_type": "code",
   "execution_count": null,
   "metadata": {},
   "outputs": [],
   "source": []
  }
 ],
 "metadata": {
  "kernelspec": {
   "display_name": "Python 3",
   "language": "python",
   "name": "python3"
  },
  "language_info": {
   "codemirror_mode": {
    "name": "ipython",
    "version": 3
   },
   "file_extension": ".py",
   "mimetype": "text/x-python",
   "name": "python",
   "nbconvert_exporter": "python",
   "pygments_lexer": "ipython3",
   "version": "3.8.5"
  }
 },
 "nbformat": 4,
 "nbformat_minor": 4
}
